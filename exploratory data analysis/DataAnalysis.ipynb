{
 "cells": [
  {
   "cell_type": "markdown",
   "id": "304b1067-ca15-4190-b88e-c845d6bc94c1",
   "metadata": {},
   "source": [
    "<b>Note:</b> Before running, move out of this directory and into \"Train data\" directory."
   ]
  },
  {
   "cell_type": "markdown",
   "id": "0cd3f7e5-48f5-41ae-a0ea-9d3e5b767a80",
   "metadata": {},
   "source": [
    "### Common problems when training Object Detection and Image Segmentation models:\n",
    "1. Image dimensions and aspect ratios (especially dealing with extreme values)\n",
    "2. Labels composition - imbalances, bounding box sizes, aspect ratios (for instance a lot of small objects)\n",
    "3. Data preparation not suitable for your dataset\n",
    "4. Modelling approach not aligned with the data"
   ]
  },
  {
   "cell_type": "markdown",
   "id": "793b66dc-0f13-4e6d-8718-aa9231147515",
   "metadata": {},
   "source": [
    "### Load Images and Metadata"
   ]
  },
  {
   "cell_type": "code",
   "execution_count": 297,
   "id": "fba553b3",
   "metadata": {},
   "outputs": [],
   "source": [
    "import matplotlib.pyplot as plt\n",
    "import matplotlib.image as mpimg\n",
    "%matplotlib inline\n",
    "\n",
    "import glob\n",
    "from PIL import Image\n",
    "from PIL.ExifTags import TAGS"
   ]
  },
  {
   "cell_type": "code",
   "execution_count": 314,
   "id": "21d4b957-bb59-4538-ab39-82ed8f256366",
   "metadata": {},
   "outputs": [],
   "source": [
    "folder_path = 'images/*.tiff'\n",
    "\n",
    "images = []\n",
    "for img_path in glob.glob(folder_path):\n",
    "    images.append(mpimg.imread(img_path))"
   ]
  },
  {
   "cell_type": "code",
   "execution_count": 333,
   "id": "86abe850",
   "metadata": {},
   "outputs": [
    {
     "ename": "MemoryError",
     "evalue": "",
     "output_type": "error",
     "traceback": [
      "\u001b[1;31m---------------------------------------------------------------------------\u001b[0m",
      "\u001b[1;31mMemoryError\u001b[0m                               Traceback (most recent call last)",
      "\u001b[1;32m<ipython-input-333-85a7b6940f48>\u001b[0m in \u001b[0;36m<module>\u001b[1;34m\u001b[0m\n\u001b[0;32m      5\u001b[0m \u001b[1;32mfor\u001b[0m \u001b[0mi\u001b[0m\u001b[1;33m,\u001b[0m \u001b[0mimage\u001b[0m \u001b[1;32min\u001b[0m \u001b[0menumerate\u001b[0m\u001b[1;33m(\u001b[0m\u001b[0mimgs_\u001b[0m\u001b[1;33m)\u001b[0m\u001b[1;33m:\u001b[0m\u001b[1;33m\u001b[0m\u001b[1;33m\u001b[0m\u001b[0m\n\u001b[0;32m      6\u001b[0m     \u001b[0mplt\u001b[0m\u001b[1;33m.\u001b[0m\u001b[0msubplot\u001b[0m\u001b[1;33m(\u001b[0m\u001b[0mlen\u001b[0m\u001b[1;33m(\u001b[0m\u001b[0mimgs_\u001b[0m\u001b[1;33m)\u001b[0m \u001b[1;33m//\u001b[0m \u001b[0mcolumns\u001b[0m \u001b[1;33m+\u001b[0m \u001b[1;36m1\u001b[0m\u001b[1;33m,\u001b[0m \u001b[0mcolumns\u001b[0m\u001b[1;33m,\u001b[0m \u001b[0mi\u001b[0m \u001b[1;33m+\u001b[0m \u001b[1;36m1\u001b[0m\u001b[1;33m)\u001b[0m\u001b[1;33m\u001b[0m\u001b[1;33m\u001b[0m\u001b[0m\n\u001b[1;32m----> 7\u001b[1;33m     \u001b[0mplt\u001b[0m\u001b[1;33m.\u001b[0m\u001b[0mimshow\u001b[0m\u001b[1;33m(\u001b[0m\u001b[0mimage\u001b[0m\u001b[1;33m)\u001b[0m\u001b[1;33m\u001b[0m\u001b[1;33m\u001b[0m\u001b[0m\n\u001b[0m\u001b[0;32m      8\u001b[0m     \u001b[0mplt\u001b[0m\u001b[1;33m.\u001b[0m\u001b[0mxticks\u001b[0m\u001b[1;33m(\u001b[0m\u001b[1;33m[\u001b[0m\u001b[1;33m]\u001b[0m\u001b[1;33m)\u001b[0m\u001b[1;33m\u001b[0m\u001b[1;33m\u001b[0m\u001b[0m\n\u001b[0;32m      9\u001b[0m     \u001b[0mplt\u001b[0m\u001b[1;33m.\u001b[0m\u001b[0myticks\u001b[0m\u001b[1;33m(\u001b[0m\u001b[1;33m[\u001b[0m\u001b[1;33m]\u001b[0m\u001b[1;33m)\u001b[0m\u001b[1;33m\u001b[0m\u001b[1;33m\u001b[0m\u001b[0m\n",
      "\u001b[1;32m~\\anaconda3\\envs\\ismi_project\\lib\\site-packages\\matplotlib\\pyplot.py\u001b[0m in \u001b[0;36mimshow\u001b[1;34m(X, cmap, norm, aspect, interpolation, alpha, vmin, vmax, origin, extent, filternorm, filterrad, resample, url, data, **kwargs)\u001b[0m\n\u001b[0;32m   2728\u001b[0m         \u001b[0mfilternorm\u001b[0m\u001b[1;33m=\u001b[0m\u001b[0mfilternorm\u001b[0m\u001b[1;33m,\u001b[0m \u001b[0mfilterrad\u001b[0m\u001b[1;33m=\u001b[0m\u001b[0mfilterrad\u001b[0m\u001b[1;33m,\u001b[0m \u001b[0mresample\u001b[0m\u001b[1;33m=\u001b[0m\u001b[0mresample\u001b[0m\u001b[1;33m,\u001b[0m\u001b[1;33m\u001b[0m\u001b[1;33m\u001b[0m\u001b[0m\n\u001b[0;32m   2729\u001b[0m         \u001b[0murl\u001b[0m\u001b[1;33m=\u001b[0m\u001b[0murl\u001b[0m\u001b[1;33m,\u001b[0m \u001b[1;33m**\u001b[0m\u001b[1;33m(\u001b[0m\u001b[1;33m{\u001b[0m\u001b[1;34m\"data\"\u001b[0m\u001b[1;33m:\u001b[0m \u001b[0mdata\u001b[0m\u001b[1;33m}\u001b[0m \u001b[1;32mif\u001b[0m \u001b[0mdata\u001b[0m \u001b[1;32mis\u001b[0m \u001b[1;32mnot\u001b[0m \u001b[1;32mNone\u001b[0m \u001b[1;32melse\u001b[0m \u001b[1;33m{\u001b[0m\u001b[1;33m}\u001b[0m\u001b[1;33m)\u001b[0m\u001b[1;33m,\u001b[0m\u001b[1;33m\u001b[0m\u001b[1;33m\u001b[0m\u001b[0m\n\u001b[1;32m-> 2730\u001b[1;33m         **kwargs)\n\u001b[0m\u001b[0;32m   2731\u001b[0m     \u001b[0msci\u001b[0m\u001b[1;33m(\u001b[0m\u001b[0m__ret\u001b[0m\u001b[1;33m)\u001b[0m\u001b[1;33m\u001b[0m\u001b[1;33m\u001b[0m\u001b[0m\n\u001b[0;32m   2732\u001b[0m     \u001b[1;32mreturn\u001b[0m \u001b[0m__ret\u001b[0m\u001b[1;33m\u001b[0m\u001b[1;33m\u001b[0m\u001b[0m\n",
      "\u001b[1;32m~\\anaconda3\\envs\\ismi_project\\lib\\site-packages\\matplotlib\\__init__.py\u001b[0m in \u001b[0;36minner\u001b[1;34m(ax, data, *args, **kwargs)\u001b[0m\n\u001b[0;32m   1445\u001b[0m     \u001b[1;32mdef\u001b[0m \u001b[0minner\u001b[0m\u001b[1;33m(\u001b[0m\u001b[0max\u001b[0m\u001b[1;33m,\u001b[0m \u001b[1;33m*\u001b[0m\u001b[0margs\u001b[0m\u001b[1;33m,\u001b[0m \u001b[0mdata\u001b[0m\u001b[1;33m=\u001b[0m\u001b[1;32mNone\u001b[0m\u001b[1;33m,\u001b[0m \u001b[1;33m**\u001b[0m\u001b[0mkwargs\u001b[0m\u001b[1;33m)\u001b[0m\u001b[1;33m:\u001b[0m\u001b[1;33m\u001b[0m\u001b[1;33m\u001b[0m\u001b[0m\n\u001b[0;32m   1446\u001b[0m         \u001b[1;32mif\u001b[0m \u001b[0mdata\u001b[0m \u001b[1;32mis\u001b[0m \u001b[1;32mNone\u001b[0m\u001b[1;33m:\u001b[0m\u001b[1;33m\u001b[0m\u001b[1;33m\u001b[0m\u001b[0m\n\u001b[1;32m-> 1447\u001b[1;33m             \u001b[1;32mreturn\u001b[0m \u001b[0mfunc\u001b[0m\u001b[1;33m(\u001b[0m\u001b[0max\u001b[0m\u001b[1;33m,\u001b[0m \u001b[1;33m*\u001b[0m\u001b[0mmap\u001b[0m\u001b[1;33m(\u001b[0m\u001b[0msanitize_sequence\u001b[0m\u001b[1;33m,\u001b[0m \u001b[0margs\u001b[0m\u001b[1;33m)\u001b[0m\u001b[1;33m,\u001b[0m \u001b[1;33m**\u001b[0m\u001b[0mkwargs\u001b[0m\u001b[1;33m)\u001b[0m\u001b[1;33m\u001b[0m\u001b[1;33m\u001b[0m\u001b[0m\n\u001b[0m\u001b[0;32m   1448\u001b[0m \u001b[1;33m\u001b[0m\u001b[0m\n\u001b[0;32m   1449\u001b[0m         \u001b[0mbound\u001b[0m \u001b[1;33m=\u001b[0m \u001b[0mnew_sig\u001b[0m\u001b[1;33m.\u001b[0m\u001b[0mbind\u001b[0m\u001b[1;33m(\u001b[0m\u001b[0max\u001b[0m\u001b[1;33m,\u001b[0m \u001b[1;33m*\u001b[0m\u001b[0margs\u001b[0m\u001b[1;33m,\u001b[0m \u001b[1;33m**\u001b[0m\u001b[0mkwargs\u001b[0m\u001b[1;33m)\u001b[0m\u001b[1;33m\u001b[0m\u001b[1;33m\u001b[0m\u001b[0m\n",
      "\u001b[1;32m~\\anaconda3\\envs\\ismi_project\\lib\\site-packages\\matplotlib\\axes\\_axes.py\u001b[0m in \u001b[0;36mimshow\u001b[1;34m(self, X, cmap, norm, aspect, interpolation, alpha, vmin, vmax, origin, extent, filternorm, filterrad, resample, url, **kwargs)\u001b[0m\n\u001b[0;32m   5521\u001b[0m                               resample=resample, **kwargs)\n\u001b[0;32m   5522\u001b[0m \u001b[1;33m\u001b[0m\u001b[0m\n\u001b[1;32m-> 5523\u001b[1;33m         \u001b[0mim\u001b[0m\u001b[1;33m.\u001b[0m\u001b[0mset_data\u001b[0m\u001b[1;33m(\u001b[0m\u001b[0mX\u001b[0m\u001b[1;33m)\u001b[0m\u001b[1;33m\u001b[0m\u001b[1;33m\u001b[0m\u001b[0m\n\u001b[0m\u001b[0;32m   5524\u001b[0m         \u001b[0mim\u001b[0m\u001b[1;33m.\u001b[0m\u001b[0mset_alpha\u001b[0m\u001b[1;33m(\u001b[0m\u001b[0malpha\u001b[0m\u001b[1;33m)\u001b[0m\u001b[1;33m\u001b[0m\u001b[1;33m\u001b[0m\u001b[0m\n\u001b[0;32m   5525\u001b[0m         \u001b[1;32mif\u001b[0m \u001b[0mim\u001b[0m\u001b[1;33m.\u001b[0m\u001b[0mget_clip_path\u001b[0m\u001b[1;33m(\u001b[0m\u001b[1;33m)\u001b[0m \u001b[1;32mis\u001b[0m \u001b[1;32mNone\u001b[0m\u001b[1;33m:\u001b[0m\u001b[1;33m\u001b[0m\u001b[1;33m\u001b[0m\u001b[0m\n",
      "\u001b[1;32m~\\anaconda3\\envs\\ismi_project\\lib\\site-packages\\matplotlib\\image.py\u001b[0m in \u001b[0;36mset_data\u001b[1;34m(self, A)\u001b[0m\n\u001b[0;32m    696\u001b[0m         \u001b[1;32mif\u001b[0m \u001b[0misinstance\u001b[0m\u001b[1;33m(\u001b[0m\u001b[0mA\u001b[0m\u001b[1;33m,\u001b[0m \u001b[0mPIL\u001b[0m\u001b[1;33m.\u001b[0m\u001b[0mImage\u001b[0m\u001b[1;33m.\u001b[0m\u001b[0mImage\u001b[0m\u001b[1;33m)\u001b[0m\u001b[1;33m:\u001b[0m\u001b[1;33m\u001b[0m\u001b[1;33m\u001b[0m\u001b[0m\n\u001b[0;32m    697\u001b[0m             \u001b[0mA\u001b[0m \u001b[1;33m=\u001b[0m \u001b[0mpil_to_array\u001b[0m\u001b[1;33m(\u001b[0m\u001b[0mA\u001b[0m\u001b[1;33m)\u001b[0m  \u001b[1;31m# Needed e.g. to apply png palette.\u001b[0m\u001b[1;33m\u001b[0m\u001b[1;33m\u001b[0m\u001b[0m\n\u001b[1;32m--> 698\u001b[1;33m         \u001b[0mself\u001b[0m\u001b[1;33m.\u001b[0m\u001b[0m_A\u001b[0m \u001b[1;33m=\u001b[0m \u001b[0mcbook\u001b[0m\u001b[1;33m.\u001b[0m\u001b[0msafe_masked_invalid\u001b[0m\u001b[1;33m(\u001b[0m\u001b[0mA\u001b[0m\u001b[1;33m,\u001b[0m \u001b[0mcopy\u001b[0m\u001b[1;33m=\u001b[0m\u001b[1;32mTrue\u001b[0m\u001b[1;33m)\u001b[0m\u001b[1;33m\u001b[0m\u001b[1;33m\u001b[0m\u001b[0m\n\u001b[0m\u001b[0;32m    699\u001b[0m \u001b[1;33m\u001b[0m\u001b[0m\n\u001b[0;32m    700\u001b[0m         if (self._A.dtype != np.uint8 and\n",
      "\u001b[1;32m~\\anaconda3\\envs\\ismi_project\\lib\\site-packages\\matplotlib\\cbook\\__init__.py\u001b[0m in \u001b[0;36msafe_masked_invalid\u001b[1;34m(x, copy)\u001b[0m\n\u001b[0;32m    680\u001b[0m \u001b[1;33m\u001b[0m\u001b[0m\n\u001b[0;32m    681\u001b[0m \u001b[1;32mdef\u001b[0m \u001b[0msafe_masked_invalid\u001b[0m\u001b[1;33m(\u001b[0m\u001b[0mx\u001b[0m\u001b[1;33m,\u001b[0m \u001b[0mcopy\u001b[0m\u001b[1;33m=\u001b[0m\u001b[1;32mFalse\u001b[0m\u001b[1;33m)\u001b[0m\u001b[1;33m:\u001b[0m\u001b[1;33m\u001b[0m\u001b[1;33m\u001b[0m\u001b[0m\n\u001b[1;32m--> 682\u001b[1;33m     \u001b[0mx\u001b[0m \u001b[1;33m=\u001b[0m \u001b[0mnp\u001b[0m\u001b[1;33m.\u001b[0m\u001b[0marray\u001b[0m\u001b[1;33m(\u001b[0m\u001b[0mx\u001b[0m\u001b[1;33m,\u001b[0m \u001b[0msubok\u001b[0m\u001b[1;33m=\u001b[0m\u001b[1;32mTrue\u001b[0m\u001b[1;33m,\u001b[0m \u001b[0mcopy\u001b[0m\u001b[1;33m=\u001b[0m\u001b[0mcopy\u001b[0m\u001b[1;33m)\u001b[0m\u001b[1;33m\u001b[0m\u001b[1;33m\u001b[0m\u001b[0m\n\u001b[0m\u001b[0;32m    683\u001b[0m     \u001b[1;32mif\u001b[0m \u001b[1;32mnot\u001b[0m \u001b[0mx\u001b[0m\u001b[1;33m.\u001b[0m\u001b[0mdtype\u001b[0m\u001b[1;33m.\u001b[0m\u001b[0misnative\u001b[0m\u001b[1;33m:\u001b[0m\u001b[1;33m\u001b[0m\u001b[1;33m\u001b[0m\u001b[0m\n\u001b[0;32m    684\u001b[0m         \u001b[1;31m# If we have already made a copy, do the byteswap in place, else make a\u001b[0m\u001b[1;33m\u001b[0m\u001b[1;33m\u001b[0m\u001b[1;33m\u001b[0m\u001b[0m\n",
      "\u001b[1;31mMemoryError\u001b[0m: "
     ]
    },
    {
     "data": {
      "image/png": "[encoded data removed]",
      "text/plain": [
       "<Figure size 1440x720 with 1 Axes>"
      ]
     },
     "metadata": {
      "needs_background": "light"
     },
     "output_type": "display_data"
    }
   ],
   "source": [
    "plt.figure(figsize=(20,10))\n",
    "columns = 5\n",
    "imgs_ = images[:21]\n",
    "\n",
    "for i, image in enumerate(imgs_):\n",
    "    plt.subplot(len(imgs_) // columns + 1, columns, i + 1)\n",
    "    plt.imshow(image)\n",
    "    plt.xticks([])\n",
    "    plt.yticks([])"
   ]
  },
  {
   "cell_type": "code",
   "execution_count": 334,
   "id": "8f1b7efb-bfe4-4303-93b4-ac03766a2ef7",
   "metadata": {},
   "outputs": [],
   "source": [
    "import json\n",
    "import numpy as np"
   ]
  },
  {
   "cell_type": "code",
   "execution_count": 335,
   "id": "fbb67cc5-834b-4670-b5fb-e3f3e024895f",
   "metadata": {},
   "outputs": [],
   "source": [
    "annotation_file = 'MIDOG.json'\n",
    "img_metadata = {}\n",
    "\n",
    "with open(annotation_file) as f:\n",
    "    data = json.load(f)\n",
    "    \n",
    "    for img in data['images']:\n",
    "        img_metadata[img['id']] = {\n",
    "            'filename': img['file_name'],\n",
    "            'width': img['width'],\n",
    "            'height': img['height']\n",
    "        }\n",
    "    \n",
    "    for annotation in data['annotations']:\n",
    "        info = {\n",
    "                'id': annotation['id'],\n",
    "                'category_id': annotation['category_id'],\n",
    "                'bbox': annotation['bbox']\n",
    "            }\n",
    "        \n",
    "        try:\n",
    "            img_metadata[annotation['image_id']]['labels'].append(info)\n",
    "        except Exception:\n",
    "            \n",
    "            img_metadata[annotation['image_id']]['labels'] = []\n",
    "            img_metadata[annotation['image_id']]['labels'].append(info)"
   ]
  },
  {
   "cell_type": "markdown",
   "id": "4be120d3-9514-456e-9e30-2a7c742b3918",
   "metadata": {},
   "source": [
    "### Check if every image has a bounding box"
   ]
  },
  {
   "cell_type": "code",
   "execution_count": 336,
   "id": "d5c81f90-5efd-4671-98e9-67f7e52bbcb6",
   "metadata": {},
   "outputs": [
    {
     "name": "stdout",
     "output_type": "stream",
     "text": [
      "Number of images with bounding box in json: 150\n",
      "Number of images: 200\n"
     ]
    }
   ],
   "source": [
    "has_aspect = [1 if 'labels' in img_meta.keys() else 0 for _, img_meta in img_metadata.items()]\n",
    "print(f'Number of images with bounding box in json: {sum(has_aspect)}')\n",
    "print(f'Number of images: {len(img_metadata)}')"
   ]
  },
  {
   "cell_type": "markdown",
   "id": "f063139f-a8a3-4222-8a86-2e420d3924f6",
   "metadata": {},
   "source": [
    "Since, 150 images have bounding box, and there are 200 images in total, 50 images do not have bounding boxes."
   ]
  },
  {
   "cell_type": "markdown",
   "id": "00e4dac5-d315-4a82-b513-4929ea766182",
   "metadata": {},
   "source": [
    "### Print aspect ratio of each image"
   ]
  },
  {
   "cell_type": "code",
   "execution_count": 337,
   "id": "5d08ccfd-b0b1-49ad-bb22-90d1eb148c82",
   "metadata": {},
   "outputs": [],
   "source": [
    "def plot_bar(data):\n",
    "    data_dict = {}\n",
    "    \n",
    "    for value in data:\n",
    "        try:\n",
    "            data_dict[value] += 1\n",
    "        except Exception:\n",
    "            data_dict[value] = 1\n",
    "            \n",
    "    plt.bar(data_dict.values(), data_dict.keys())"
   ]
  },
  {
   "cell_type": "code",
   "execution_count": 338,
   "id": "be5e7982-4c8b-466c-86ba-b7e9d8a0a3c0",
   "metadata": {},
   "outputs": [
    {
     "name": "stdout",
     "output_type": "stream",
     "text": [
      "Min: 1.31, max: 1.371, mean: 1.3339\n"
     ]
    },
    {
     "data": {
      "image/png": "[encoded data removed]",
      "text/plain": [
       "<Figure size 432x288 with 1 Axes>"
      ]
     },
     "metadata": {
      "needs_background": "light"
     },
     "output_type": "display_data"
    }
   ],
   "source": [
    "img_aspect_ratios = [round(img_meta['width'] / img_meta['height'], 3) for _, img_meta in img_metadata.items()]\n",
    "plot_bar(img_aspect_ratios)\n",
    "print(f\"Min: {min(img_aspect_ratios)}, max: {max(img_aspect_ratios)}, mean: {np.mean(np.array(img_aspect_ratios))}\")"
   ]
  },
  {
   "cell_type": "code",
   "execution_count": 339,
   "id": "0cb22758-2f06-4b8c-bb18-f59b0bf41c0a",
   "metadata": {},
   "outputs": [
    {
     "name": "stdout",
     "output_type": "stream",
     "text": [
      "Min: 1.31, max: 1.371, mean: 1.3339, std: 0.008695976080923871\n"
     ]
    },
    {
     "data": {
      "image/png": "[encoded data removed]",
      "text/plain": [
       "<Figure size 432x288 with 1 Axes>"
      ]
     },
     "metadata": {
      "needs_background": "light"
     },
     "output_type": "display_data"
    }
   ],
   "source": [
    "img_areas = [round(img_meta['width'] / img_meta['height'], 3) for _, img_meta in img_metadata.items()]\n",
    "plot_bar(img_areas)\n",
    "print(f\"Min: {min(img_areas)}, max: {max(img_areas)}, mean: {np.mean(np.array(img_areas))}, std: {np.std(np.array(img_areas))}\")"
   ]
  },
  {
   "cell_type": "markdown",
   "id": "cecea2ff-e31c-4d90-943a-f95df96c5293",
   "metadata": {},
   "source": [
    "All of the images have similar aspect ratios."
   ]
  },
  {
   "cell_type": "markdown",
   "id": "f4fa8402-5543-4c5d-b3bb-086c734ea5bf",
   "metadata": {},
   "source": [
    "### Print aspect ratio of each bounding box"
   ]
  },
  {
   "cell_type": "code",
   "execution_count": 340,
   "id": "110d2d53-745d-4498-a5e1-d3834c55669e",
   "metadata": {},
   "outputs": [
    {
     "data": {
      "image/png": "[encoded data removed]",
      "text/plain": [
       "<Figure size 432x288 with 1 Axes>"
      ]
     },
     "metadata": {
      "needs_background": "light"
     },
     "output_type": "display_data"
    }
   ],
   "source": [
    "#bbox_aspect_ratios = [round(bbox['width'] / bbox['height'], 3) for _, img_meta in img_metadata.items() for bbox in img_meta['labels']]\n",
    "#plot_bar(bbox_aspect_ratios)\n",
    "\n",
    "bbox_aspect_ratios = []\n",
    "for _, img_meta in img_metadata.items():\n",
    "    try:\n",
    "        img_meta['labels']\n",
    "    except Exception:\n",
    "        continue\n",
    "    for label in img_meta['labels']:\n",
    "        x_min, y_min, x_max, y_max = label['bbox']\n",
    "        if x_max-x_min > 0 and y_max-y_min > 0:\n",
    "            #bbox_aspect_ratios.append(round((label['bbox'][0]-label['bbox'][1])/(label['bbox'][2]-label['bbox'][3]), 3)) xywh\n",
    "            bbox_aspect_ratios.append(round((x_max-x_min)/(y_max-y_min), 3)) # x_min,x_max,y_min,y_max\n",
    "        else:\n",
    "            print(f'Something is wrong with: {label}')\n",
    "\n",
    "plot_bar(bbox_aspect_ratios)"
   ]
  },
  {
   "cell_type": "markdown",
   "id": "610a5336-0d50-402d-8a91-c2f920c07284",
   "metadata": {},
   "source": [
    "All of the bounding boxes have the same aspect ratio. That means that any resizing or anything will not be needed. Moreover, the aspect ratio of each bounding box is 1.0, which means that all of the bounding boxes are squares (height and width are of the same size). \\\n",
    "After further inspection it was concluded that those 50 ones are from Leica scanner."
   ]
  },
  {
   "cell_type": "markdown",
   "id": "2e8eb1a8-af7a-4c40-acf7-8dec62738c3e",
   "metadata": {},
   "source": [
    "### Mitotic VS. Hard Negatives"
   ]
  },
  {
   "cell_type": "code",
   "execution_count": 341,
   "id": "972a6e05-1375-4310-bbdb-8ff3b583c6a6",
   "metadata": {},
   "outputs": [
    {
     "data": {
      "text/plain": [
       "([<matplotlib.patches.Wedge at 0x24101c55e10>,\n",
       "  <matplotlib.patches.Wedge at 0x24101c55fd0>],\n",
       " [Text(-0.3789462987978753, 1.0326663074911429, 'Hard negatives: 61.2%'),\n",
       "  Text(0.37894629879787534, -1.0326663074911429, 'Mitosis: 38.8%')])"
      ]
     },
     "execution_count": 341,
     "metadata": {},
     "output_type": "execute_result"
    },
    {
     "data": {
      "image/png": "[encoded data removed]",
      "text/plain": [
       "<Figure size 432x288 with 1 Axes>"
      ]
     },
     "metadata": {},
     "output_type": "display_data"
    }
   ],
   "source": [
    "categories = [2-label['category_id'] for _, img_meta in img_metadata.items() if 'labels' in img_meta.keys() for label in img_meta['labels']]\n",
    "mitosis_num = sum(categories)\n",
    "total = len(categories)\n",
    "\n",
    "categories_dict = {0: total-mitosis_num, 1: mitosis_num}\n",
    "plt.pie(categories_dict.values(), labels=[f'Hard negatives: {round(categories_dict[0] / total*100, 2)}%', f'Mitosis: {round(categories_dict[1] / total*100, 2)}%'])"
   ]
  },
  {
   "cell_type": "markdown",
   "id": "3e80a12f-d4a9-4a05-a9eb-65a58cc76cd4",
   "metadata": {},
   "source": [
    "There are a more hard negatives in the dataset (61.2% vs 38.8%), but the difference is not that big (not big class imbalance)."
   ]
  },
  {
   "cell_type": "code",
   "execution_count": 342,
   "id": "696887e1-c520-4077-8e03-9a7588fbfe18",
   "metadata": {},
   "outputs": [],
   "source": [
    "mitosis_per_img = []\n",
    "hard_neg_per_img = []\n",
    "for _, img in img_metadata.items():\n",
    "        \n",
    "    mitosis_num = 0\n",
    "    hard_neg_num = 0\n",
    "    if 'labels' in img.keys():\n",
    "        mitosis_num = sum([1 for label in img['labels'] if label['category_id'] == 1])\n",
    "        hard_neg_num = sum([1 for label in img['labels'] if label['category_id'] == 2])\n",
    "        \n",
    "    mitosis_per_img.append(mitosis_num)\n",
    "    hard_neg_per_img.append(hard_neg_num)"
   ]
  },
  {
   "cell_type": "markdown",
   "id": "0714bd1d-746e-4f36-b7ab-b56d6c98ac98",
   "metadata": {},
   "source": [
    "Number of mitosis bounding boxes per image:"
   ]
  },
  {
   "cell_type": "code",
   "execution_count": 343,
   "id": "2ece4687-aea4-4999-8453-2a2d293ab9b9",
   "metadata": {},
   "outputs": [
    {
     "data": {
      "text/plain": [
       "<BarContainer object of 200 artists>"
      ]
     },
     "execution_count": 343,
     "metadata": {},
     "output_type": "execute_result"
    },
    {
     "data": {
      "image/png": "[encoded data removed]",
      "text/plain": [
       "<Figure size 432x288 with 1 Axes>"
      ]
     },
     "metadata": {
      "needs_background": "light"
     },
     "output_type": "display_data"
    }
   ],
   "source": [
    "plt.bar(list(range(1, len(mitosis_per_img)+1)), mitosis_per_img)"
   ]
  },
  {
   "cell_type": "markdown",
   "id": "3ead70c8-51f9-47a5-b880-800343f7c96a",
   "metadata": {},
   "source": [
    "Number of hard-negative bounding boxes per image:"
   ]
  },
  {
   "cell_type": "code",
   "execution_count": 344,
   "id": "7eef2a5b-21f6-48f0-bf89-6f99218ec86c",
   "metadata": {},
   "outputs": [
    {
     "data": {
      "text/plain": [
       "<BarContainer object of 200 artists>"
      ]
     },
     "execution_count": 344,
     "metadata": {},
     "output_type": "execute_result"
    },
    {
     "data": {
      "image/png": "[encoded data removed]",
      "text/plain": [
       "<Figure size 432x288 with 1 Axes>"
      ]
     },
     "metadata": {
      "needs_background": "light"
     },
     "output_type": "display_data"
    }
   ],
   "source": [
    "plt.bar(list(range(1, len(hard_neg_per_img)+1)), hard_neg_per_img)"
   ]
  },
  {
   "cell_type": "markdown",
   "id": "1c9845ce-daa4-4781-9fdb-3d509b106f64",
   "metadata": {},
   "source": [
    "### Descriptive Statistics is in \"stats.py\""
   ]
  }
 ],
 "metadata": {
  "kernelspec": {
   "display_name": "Python 3",
   "language": "python",
   "name": "python3"
  },
  "language_info": {
   "codemirror_mode": {
    "name": "ipython",
    "version": 3
   },
   "file_extension": ".py",
   "mimetype": "text/x-python",
   "name": "python",
   "nbconvert_exporter": "python",
   "pygments_lexer": "ipython3",
   "version": "3.6.13"
  }
 },
 "nbformat": 4,
 "nbformat_minor": 5
}
